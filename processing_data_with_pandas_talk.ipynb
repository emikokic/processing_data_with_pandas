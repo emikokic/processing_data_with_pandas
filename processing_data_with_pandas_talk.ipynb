{
 "cells": [
  {
   "cell_type": "markdown",
   "metadata": {},
   "source": [
    "# Processing data with Pandas"
   ]
  },
  {
   "cell_type": "markdown",
   "metadata": {},
   "source": [
    "## Agenda:\n",
    "\n",
    "\n",
    "* Why Pandas?\n",
    "\n",
    "* Series and DataFrames.\n",
    "\n",
    "* Indexing.\n",
    "\n",
    "* Reading and saving data.\n",
    "\n",
    "* Missing data.\n",
    "\n",
    "* Basic operations.\n",
    "\n",
    "* Plots.\n",
    "\n",
    "* Performance tips.\n",
    "\n",
    " (https://media.giphy.com/media/DBPEwTU6klcac/giphy.gif)\n",
    "\n",
    " (There is an overhead in loading the data into the data frame. This is compensated when there is a lot of processing needed. However, it’s not advised to use pandas and load the data into a data frame for one calculation.) Mencionar alternativas?"
   ]
  },
  {
   "cell_type": "markdown",
   "metadata": {},
   "source": [
    "TODO: AGREGAR CODIGO QR CON LINK AL REPOSITORIO?"
   ]
  },
  {
   "cell_type": "markdown",
   "metadata": {},
   "source": [
    "## Why Pandas?\n",
    "\n",
    "\n",
    "- Open source Python library (age ~ 11 years).\n",
    "\n",
    "(Es una libreria de Python open source que ya tiene unos 11 años desde su primer release)\n",
    "\n",
    "- It became almost a standard for performing data analysis in Python.\n",
    "\n",
    "(Es practicamente un estandar para realizar analisis de datos de manera rapida en Python)\n",
    "\n",
    "- It's made over numpy.\n",
    "\n",
    "(Otra libreria de Python que implementa arrays multidimensionales de forma eficiente y es la \n",
    "base para muchos de los paquetes científicos de Python)\n",
    "\n",
    "- It has high level data structures.\n",
    "\n",
    "(Esto son las Series y Dataframes lo que hace mas ameno trabajar con esta herramienta)."
   ]
  },
  {
   "cell_type": "markdown",
   "metadata": {},
   "source": [
    "## Series and Dataframes"
   ]
  },
  {
   "cell_type": "code",
   "execution_count": 1,
   "metadata": {},
   "outputs": [
    {
     "data": {
      "text/plain": [
       "3"
      ]
     },
     "execution_count": 1,
     "metadata": {},
     "output_type": "execute_result"
    }
   ],
   "source": [
    "python_list = [1, 2, 3, 4]\n",
    "\n",
    "python_list[2]"
   ]
  },
  {
   "cell_type": "code",
   "execution_count": 2,
   "metadata": {},
   "outputs": [
    {
     "data": {
      "text/plain": [
       "[2, 3]"
      ]
     },
     "execution_count": 2,
     "metadata": {},
     "output_type": "execute_result"
    }
   ],
   "source": [
    "python_list[1:-1]"
   ]
  },
  {
   "cell_type": "code",
   "execution_count": 3,
   "metadata": {},
   "outputs": [
    {
     "data": {
      "text/plain": [
       "3"
      ]
     },
     "execution_count": 3,
     "metadata": {},
     "output_type": "execute_result"
    }
   ],
   "source": [
    "python_dict = {'a': 1, 'b': 2, 'c': 3, 'd': 4}\n",
    "\n",
    "python_dict['c']"
   ]
  },
  {
   "cell_type": "markdown",
   "metadata": {},
   "source": [
    "- Series: one dimensional labeled array"
   ]
  },
  {
   "cell_type": "code",
   "execution_count": 4,
   "metadata": {},
   "outputs": [
    {
     "data": {
      "text/plain": [
       "a    1\n",
       "b    2\n",
       "c    3\n",
       "d    4\n",
       "dtype: int64"
      ]
     },
     "execution_count": 4,
     "metadata": {},
     "output_type": "execute_result"
    }
   ],
   "source": [
    "import pandas\n",
    "serie = pandas.Series([1, 2, 3, 4],\n",
    "                       index=['a', 'b', 'c', 'd'])\n",
    "serie"
   ]
  },
  {
   "cell_type": "code",
   "execution_count": 5,
   "metadata": {},
   "outputs": [
    {
     "data": {
      "text/plain": [
       "b    2\n",
       "c    3\n",
       "dtype: int64"
      ]
     },
     "execution_count": 5,
     "metadata": {},
     "output_type": "execute_result"
    }
   ],
   "source": [
    "serie[1:-1]"
   ]
  },
  {
   "cell_type": "code",
   "execution_count": 6,
   "metadata": {},
   "outputs": [
    {
     "data": {
      "text/plain": [
       "3"
      ]
     },
     "execution_count": 6,
     "metadata": {},
     "output_type": "execute_result"
    }
   ],
   "source": [
    "serie['c']"
   ]
  },
  {
   "cell_type": "code",
   "execution_count": 7,
   "metadata": {},
   "outputs": [
    {
     "data": {
      "text/plain": [
       "a    2\n",
       "b    3\n",
       "c    4\n",
       "d    5\n",
       "dtype: int64"
      ]
     },
     "execution_count": 7,
     "metadata": {},
     "output_type": "execute_result"
    }
   ],
   "source": [
    "serie = serie + 1\n",
    "serie"
   ]
  },
  {
   "cell_type": "code",
   "execution_count": 8,
   "metadata": {},
   "outputs": [
    {
     "data": {
      "text/plain": [
       "a    202\n",
       "b    203\n",
       "c    104\n",
       "d    105\n",
       "dtype: int64"
      ]
     },
     "execution_count": 8,
     "metadata": {},
     "output_type": "execute_result"
    }
   ],
   "source": [
    "serie + pandas.Series([100, 100, 200, 200], index=['c', 'd', 'a', 'b'])"
   ]
  },
  {
   "cell_type": "code",
   "execution_count": 9,
   "metadata": {},
   "outputs": [
    {
     "data": {
      "text/plain": [
       "3.5"
      ]
     },
     "execution_count": 9,
     "metadata": {},
     "output_type": "execute_result"
    }
   ],
   "source": [
    "serie.mean()"
   ]
  },
  {
   "cell_type": "code",
   "execution_count": 10,
   "metadata": {},
   "outputs": [
    {
     "data": {
      "text/plain": [
       "1.2909944487358056"
      ]
     },
     "execution_count": 10,
     "metadata": {},
     "output_type": "execute_result"
    }
   ],
   "source": [
    "serie.std()"
   ]
  },
  {
   "cell_type": "code",
   "execution_count": 12,
   "metadata": {},
   "outputs": [
    {
     "name": "stdout",
     "output_type": "stream",
     "text": [
      "<class 'numpy.ndarray'>\n"
     ]
    },
    {
     "data": {
      "text/plain": [
       "array([2, 3, 4, 5])"
      ]
     },
     "execution_count": 12,
     "metadata": {},
     "output_type": "execute_result"
    }
   ],
   "source": [
    "print(type(serie.values))\n",
    "serie.values"
   ]
  },
  {
   "cell_type": "markdown",
   "metadata": {},
   "source": [
    "- Dataframe: two dimensional labeled data structure with columns of potentially different types"
   ]
  },
  {
   "cell_type": "code",
   "execution_count": 17,
   "metadata": {},
   "outputs": [
    {
     "data": {
      "text/html": [
       "<div>\n",
       "<style scoped>\n",
       "    .dataframe tbody tr th:only-of-type {\n",
       "        vertical-align: middle;\n",
       "    }\n",
       "\n",
       "    .dataframe tbody tr th {\n",
       "        vertical-align: top;\n",
       "    }\n",
       "\n",
       "    .dataframe thead th {\n",
       "        text-align: right;\n",
       "    }\n",
       "</style>\n",
       "<table border=\"1\" class=\"dataframe\">\n",
       "  <thead>\n",
       "    <tr style=\"text-align: right;\">\n",
       "      <th></th>\n",
       "      <th>name</th>\n",
       "      <th>number</th>\n",
       "      <th>birthdate</th>\n",
       "    </tr>\n",
       "  </thead>\n",
       "  <tbody>\n",
       "    <tr>\n",
       "      <th>a</th>\n",
       "      <td>John</td>\n",
       "      <td>2</td>\n",
       "      <td>2010-01-02</td>\n",
       "    </tr>\n",
       "    <tr>\n",
       "      <th>b</th>\n",
       "      <td>Peter</td>\n",
       "      <td>3</td>\n",
       "      <td>NaN</td>\n",
       "    </tr>\n",
       "    <tr>\n",
       "      <th>c</th>\n",
       "      <td>David</td>\n",
       "      <td>4</td>\n",
       "      <td>2011-05-23</td>\n",
       "    </tr>\n",
       "    <tr>\n",
       "      <th>d</th>\n",
       "      <td>Michael</td>\n",
       "      <td>5</td>\n",
       "      <td>0</td>\n",
       "    </tr>\n",
       "  </tbody>\n",
       "</table>\n",
       "</div>"
      ],
      "text/plain": [
       "      name  number   birthdate\n",
       "a     John       2  2010-01-02\n",
       "b    Peter       3         NaN\n",
       "c    David       4  2011-05-23\n",
       "d  Michael       5           0"
      ]
     },
     "execution_count": 17,
     "metadata": {},
     "output_type": "execute_result"
    }
   ],
   "source": [
    "df = pandas.DataFrame({'name': ['John', 'Peter', 'David', 'Michael'],\n",
    "                       'number': serie,\n",
    "                       'birthdate': ['2010-01-02', float('NaN'), '2011-05-23', 0.]})\n",
    "df"
   ]
  },
  {
   "cell_type": "markdown",
   "metadata": {},
   "source": [
    "## Indexing"
   ]
  },
  {
   "cell_type": "markdown",
   "metadata": {},
   "source": [
    "- By position"
   ]
  },
  {
   "cell_type": "code",
   "execution_count": 18,
   "metadata": {},
   "outputs": [
    {
     "data": {
      "text/plain": [
       "name              David\n",
       "number                4\n",
       "birthdate    2011-05-23\n",
       "Name: c, dtype: object"
      ]
     },
     "execution_count": 18,
     "metadata": {},
     "output_type": "execute_result"
    }
   ],
   "source": [
    "df.iloc[2]"
   ]
  },
  {
   "cell_type": "markdown",
   "metadata": {},
   "source": [
    "- By label"
   ]
  },
  {
   "cell_type": "code",
   "execution_count": 19,
   "metadata": {},
   "outputs": [
    {
     "data": {
      "text/plain": [
       "name              David\n",
       "number                4\n",
       "birthdate    2011-05-23\n",
       "Name: c, dtype: object"
      ]
     },
     "execution_count": 19,
     "metadata": {},
     "output_type": "execute_result"
    }
   ],
   "source": [
    "df.loc['c']"
   ]
  },
  {
   "cell_type": "markdown",
   "metadata": {},
   "source": [
    "- Boolean indexing"
   ]
  },
  {
   "cell_type": "code",
   "execution_count": 21,
   "metadata": {},
   "outputs": [
    {
     "data": {
      "text/html": [
       "<div>\n",
       "<style scoped>\n",
       "    .dataframe tbody tr th:only-of-type {\n",
       "        vertical-align: middle;\n",
       "    }\n",
       "\n",
       "    .dataframe tbody tr th {\n",
       "        vertical-align: top;\n",
       "    }\n",
       "\n",
       "    .dataframe thead th {\n",
       "        text-align: right;\n",
       "    }\n",
       "</style>\n",
       "<table border=\"1\" class=\"dataframe\">\n",
       "  <thead>\n",
       "    <tr style=\"text-align: right;\">\n",
       "      <th></th>\n",
       "      <th>name</th>\n",
       "      <th>number</th>\n",
       "      <th>birthdate</th>\n",
       "    </tr>\n",
       "  </thead>\n",
       "  <tbody>\n",
       "    <tr>\n",
       "      <th>c</th>\n",
       "      <td>David</td>\n",
       "      <td>4</td>\n",
       "      <td>2011-05-23</td>\n",
       "    </tr>\n",
       "  </tbody>\n",
       "</table>\n",
       "</div>"
      ],
      "text/plain": [
       "    name  number   birthdate\n",
       "c  David       4  2011-05-23"
      ]
     },
     "execution_count": 21,
     "metadata": {},
     "output_type": "execute_result"
    }
   ],
   "source": [
    "df[df['name'] == 'David']"
   ]
  },
  {
   "cell_type": "markdown",
   "metadata": {},
   "source": [
    "## Reading and saving data"
   ]
  },
  {
   "cell_type": "markdown",
   "metadata": {},
   "source": [
    "(Pandas viene preparado para interactuar con varios formatos de datos, entre ellos CSV, JSON, Excel, HDF5, pickle, SQL y varios más.)"
   ]
  },
  {
   "cell_type": "markdown",
   "metadata": {},
   "source": [
    "<table class=\"colwidths-given docutils\" border=\"1\">\n",
    "<colgroup>\n",
    "<col width=\"12%\">\n",
    "<col width=\"40%\">\n",
    "<col width=\"24%\">\n",
    "<col width=\"24%\">\n",
    "</colgroup>\n",
    "<thead valign=\"bottom\">\n",
    "<tr class=\"row-odd\"><th class=\"head\">Format Type</th>\n",
    "<th class=\"head\">Data Description</th>\n",
    "<th class=\"head\">Reader</th>\n",
    "<th class=\"head\">Writer</th>\n",
    "</tr>\n",
    "</thead>\n",
    "<tbody valign=\"top\">\n",
    "<tr class=\"row-even\"><td>text</td>\n",
    "<td><a class=\"reference external\" href=\"https://en.wikipedia.org/wiki/Comma-separated_values\">CSV</a></td>\n",
    "<td><a class=\"reference internal\" href=\"#io-read-csv-table\"><span class=\"std std-ref\">read_csv</span></a></td>\n",
    "<td><a class=\"reference internal\" href=\"#io-store-in-csv\"><span class=\"std std-ref\">to_csv</span></a></td>\n",
    "</tr>\n",
    "<tr class=\"row-odd\"><td>text</td>\n",
    "<td><a class=\"reference external\" href=\"https://www.json.org/\">JSON</a></td>\n",
    "<td><a class=\"reference internal\" href=\"#io-json-reader\"><span class=\"std std-ref\">read_json</span></a></td>\n",
    "<td><a class=\"reference internal\" href=\"#io-json-writer\"><span class=\"std std-ref\">to_json</span></a></td>\n",
    "</tr>\n",
    "<tr class=\"row-even\"><td>text</td>\n",
    "<td><a class=\"reference external\" href=\"https://en.wikipedia.org/wiki/HTML\">HTML</a></td>\n",
    "<td><a class=\"reference internal\" href=\"#io-read-html\"><span class=\"std std-ref\">read_html</span></a></td>\n",
    "<td><a class=\"reference internal\" href=\"#io-html\"><span class=\"std std-ref\">to_html</span></a></td>\n",
    "</tr>\n",
    "<tr class=\"row-even\"><td>binary</td>\n",
    "<td><a class=\"reference external\" href=\"https://en.wikipedia.org/wiki/Microsoft_Excel\">MS Excel</a></td>\n",
    "<td><a class=\"reference internal\" href=\"#io-excel-reader\"><span class=\"std std-ref\">read_excel</span></a></td>\n",
    "<td><a class=\"reference internal\" href=\"#io-excel-writer\"><span class=\"std std-ref\">to_excel</span></a></td>\n",
    "</tr>\n",
    "<tr class=\"row-odd\"><td>binary</td>\n",
    "<td><a class=\"reference external\" href=\"https://support.hdfgroup.org/HDF5/whatishdf5.html\">HDF5 Format</a></td>\n",
    "<td><a class=\"reference internal\" href=\"#io-hdf5\"><span class=\"std std-ref\">read_hdf</span></a></td>\n",
    "<td><a class=\"reference internal\" href=\"#io-hdf5\"><span class=\"std std-ref\">to_hdf</span></a></td>\n",
    "</tr>\n",
    "<tr class=\"row-even\"><td>binary</td>\n",
    "<td><a class=\"reference external\" href=\"https://github.com/wesm/feather\">Feather Format</a></td>\n",
    "<td><a class=\"reference internal\" href=\"#io-feather\"><span class=\"std std-ref\">read_feather</span></a></td>\n",
    "<td><a class=\"reference internal\" href=\"#io-feather\"><span class=\"std std-ref\">to_feather</span></a></td>\n",
    "</tr>\n",
    "<tr class=\"row-odd\"><td>binary</td>\n",
    "<td><a class=\"reference external\" href=\"https://parquet.apache.org/\">Parquet Format</a></td>\n",
    "<td><a class=\"reference internal\" href=\"#io-parquet\"><span class=\"std std-ref\">read_parquet</span></a></td>\n",
    "<td><a class=\"reference internal\" href=\"#io-parquet\"><span class=\"std std-ref\">to_parquet</span></a></td>\n",
    "</tr>\n",
    "<tr class=\"row-even\"><td>binary</td>\n",
    "<td><a class=\"reference external\" href=\"https://msgpack.org/index.html\">Msgpack</a></td>\n",
    "<td><a class=\"reference internal\" href=\"#io-msgpack\"><span class=\"std std-ref\">read_msgpack</span></a></td>\n",
    "<td><a class=\"reference internal\" href=\"#io-msgpack\"><span class=\"std std-ref\">to_msgpack</span></a></td>\n",
    "</tr>\n",
    "<tr class=\"row-odd\"><td>binary</td>\n",
    "<td><a class=\"reference external\" href=\"https://en.wikipedia.org/wiki/Stata\">Stata</a></td>\n",
    "<td><a class=\"reference internal\" href=\"#io-stata-reader\"><span class=\"std std-ref\">read_stata</span></a></td>\n",
    "<td><a class=\"reference internal\" href=\"#io-stata-writer\"><span class=\"std std-ref\">to_stata</span></a></td>\n",
    "</tr>\n",
    "<tr class=\"row-odd\"><td>binary</td>\n",
    "<td><a class=\"reference external\" href=\"https://docs.python.org/3/library/pickle.html\">Python Pickle Format</a></td>\n",
    "<td><a class=\"reference internal\" href=\"#io-pickle\"><span class=\"std std-ref\">read_pickle</span></a></td>\n",
    "<td><a class=\"reference internal\" href=\"#io-pickle\"><span class=\"std std-ref\">to_pickle</span></a></td>\n",
    "</tr>\n",
    "<tr class=\"row-even\"><td>SQL</td>\n",
    "<td><a class=\"reference external\" href=\"https://en.wikipedia.org/wiki/SQL\">SQL</a></td>\n",
    "<td><a class=\"reference internal\" href=\"#io-sql\"><span class=\"std std-ref\">read_sql</span></a></td>\n",
    "<td><a class=\"reference internal\" href=\"#io-sql\"><span class=\"std std-ref\">to_sql</span></a></td>\n",
    "</tr>\n",
    "<tr class=\"row-odd\"><td>SQL</td>\n",
    "<td><a class=\"reference external\" href=\"https://en.wikipedia.org/wiki/BigQuery\">Google Big Query</a></td>\n",
    "<td><a class=\"reference internal\" href=\"#io-bigquery\"><span class=\"std std-ref\">read_gbq</span></a></td>\n",
    "<td><a class=\"reference internal\" href=\"#io-bigquery\"><span class=\"std std-ref\">to_gbq</span></a></td>\n",
    "</tr>\n",
    "</tbody>\n",
    "</table>"
   ]
  },
  {
   "cell_type": "markdown",
   "metadata": {},
   "source": [
    "Some useful parameters of *read_csv()* function:\n",
    "\n",
    "- filepath_or_buffer: required. Any valid string path is acceptable. The string could be a URL.\n",
    "- parse_dates: columns to be parsed as dates.\n",
    "- date_parser: function used to parsing dates.\n",
    "- usecols: return a subset of the columns.\n",
    "- dtype: data type for data or columns.\n",
    "- na_values: additional strings to recognize as NA/NaN."
   ]
  },
  {
   "cell_type": "markdown",
   "metadata": {},
   "source": [
    "Example: \n",
    "\n",
    "### *Housing global price indices*. \n",
    "\n",
    "\n",
    "- Dataset comes from [Bank For International Settlements BIS](http://www.bis.org/statistics/pp.htm)."
   ]
  },
  {
   "cell_type": "code",
   "execution_count": 96,
   "metadata": {},
   "outputs": [],
   "source": [
    "df = pandas.read_csv('data/housing_global_price_indices.csv.gz', parse_dates=['date'])"
   ]
  },
  {
   "cell_type": "markdown",
   "metadata": {},
   "source": [
    "### Missing data"
   ]
  },
  {
   "cell_type": "code",
   "execution_count": 97,
   "metadata": {},
   "outputs": [
    {
     "name": "stdout",
     "output_type": "stream",
     "text": [
      "(12627, 3)\n"
     ]
    },
    {
     "data": {
      "text/html": [
       "<div>\n",
       "<style scoped>\n",
       "    .dataframe tbody tr th:only-of-type {\n",
       "        vertical-align: middle;\n",
       "    }\n",
       "\n",
       "    .dataframe tbody tr th {\n",
       "        vertical-align: top;\n",
       "    }\n",
       "\n",
       "    .dataframe thead th {\n",
       "        text-align: right;\n",
       "    }\n",
       "</style>\n",
       "<table border=\"1\" class=\"dataframe\">\n",
       "  <thead>\n",
       "    <tr style=\"text-align: right;\">\n",
       "      <th></th>\n",
       "      <th>date</th>\n",
       "      <th>country</th>\n",
       "      <th>price_index</th>\n",
       "    </tr>\n",
       "  </thead>\n",
       "  <tbody>\n",
       "    <tr>\n",
       "      <th>0</th>\n",
       "      <td>1966-03-31</td>\n",
       "      <td>Emerging market economies</td>\n",
       "      <td>NaN</td>\n",
       "    </tr>\n",
       "    <tr>\n",
       "      <th>1</th>\n",
       "      <td>1966-03-31</td>\n",
       "      <td>Advanced economies</td>\n",
       "      <td>NaN</td>\n",
       "    </tr>\n",
       "    <tr>\n",
       "      <th>2</th>\n",
       "      <td>1966-03-31</td>\n",
       "      <td>United Arab Emirates</td>\n",
       "      <td>NaN</td>\n",
       "    </tr>\n",
       "    <tr>\n",
       "      <th>3</th>\n",
       "      <td>1966-03-31</td>\n",
       "      <td>Austria</td>\n",
       "      <td>NaN</td>\n",
       "    </tr>\n",
       "    <tr>\n",
       "      <th>4</th>\n",
       "      <td>1966-03-31</td>\n",
       "      <td>Australia</td>\n",
       "      <td>NaN</td>\n",
       "    </tr>\n",
       "  </tbody>\n",
       "</table>\n",
       "</div>"
      ],
      "text/plain": [
       "        date                    country  price_index\n",
       "0 1966-03-31  Emerging market economies          NaN\n",
       "1 1966-03-31         Advanced economies          NaN\n",
       "2 1966-03-31       United Arab Emirates          NaN\n",
       "3 1966-03-31                    Austria          NaN\n",
       "4 1966-03-31                  Australia          NaN"
      ]
     },
     "execution_count": 97,
     "metadata": {},
     "output_type": "execute_result"
    }
   ],
   "source": [
    "print(df.shape)\n",
    "df.head()"
   ]
  },
  {
   "cell_type": "code",
   "execution_count": 98,
   "metadata": {},
   "outputs": [
    {
     "data": {
      "text/plain": [
       "(4561, 3)"
      ]
     },
     "execution_count": 98,
     "metadata": {},
     "output_type": "execute_result"
    }
   ],
   "source": [
    "df_clean = df.dropna()\n",
    "df_clean.shape"
   ]
  },
  {
   "cell_type": "markdown",
   "metadata": {},
   "source": [
    "Explicar que decidir como tratar los valores faltantes muchas veces es algo no trivial y depende mucho del problema.\n",
    "\n",
    "- En lugar de remover:"
   ]
  },
  {
   "cell_type": "code",
   "execution_count": 99,
   "metadata": {},
   "outputs": [
    {
     "data": {
      "text/html": [
       "<div>\n",
       "<style scoped>\n",
       "    .dataframe tbody tr th:only-of-type {\n",
       "        vertical-align: middle;\n",
       "    }\n",
       "\n",
       "    .dataframe tbody tr th {\n",
       "        vertical-align: top;\n",
       "    }\n",
       "\n",
       "    .dataframe thead th {\n",
       "        text-align: right;\n",
       "    }\n",
       "</style>\n",
       "<table border=\"1\" class=\"dataframe\">\n",
       "  <thead>\n",
       "    <tr style=\"text-align: right;\">\n",
       "      <th></th>\n",
       "      <th>date</th>\n",
       "      <th>country</th>\n",
       "      <th>price_index</th>\n",
       "    </tr>\n",
       "  </thead>\n",
       "  <tbody>\n",
       "    <tr>\n",
       "      <th>0</th>\n",
       "      <td>1966-03-31</td>\n",
       "      <td>Emerging market economies</td>\n",
       "      <td>0.0</td>\n",
       "    </tr>\n",
       "    <tr>\n",
       "      <th>1</th>\n",
       "      <td>1966-03-31</td>\n",
       "      <td>Advanced economies</td>\n",
       "      <td>0.0</td>\n",
       "    </tr>\n",
       "    <tr>\n",
       "      <th>2</th>\n",
       "      <td>1966-03-31</td>\n",
       "      <td>United Arab Emirates</td>\n",
       "      <td>0.0</td>\n",
       "    </tr>\n",
       "    <tr>\n",
       "      <th>3</th>\n",
       "      <td>1966-03-31</td>\n",
       "      <td>Austria</td>\n",
       "      <td>0.0</td>\n",
       "    </tr>\n",
       "    <tr>\n",
       "      <th>4</th>\n",
       "      <td>1966-03-31</td>\n",
       "      <td>Australia</td>\n",
       "      <td>0.0</td>\n",
       "    </tr>\n",
       "  </tbody>\n",
       "</table>\n",
       "</div>"
      ],
      "text/plain": [
       "        date                    country  price_index\n",
       "0 1966-03-31  Emerging market economies          0.0\n",
       "1 1966-03-31         Advanced economies          0.0\n",
       "2 1966-03-31       United Arab Emirates          0.0\n",
       "3 1966-03-31                    Austria          0.0\n",
       "4 1966-03-31                  Australia          0.0"
      ]
     },
     "execution_count": 99,
     "metadata": {},
     "output_type": "execute_result"
    }
   ],
   "source": [
    "df_clean = df.fillna(0)\n",
    "df_clean.head()"
   ]
  },
  {
   "cell_type": "markdown",
   "metadata": {},
   "source": [
    "- fillna(promedio, mediana, moda por año). (mas adelante implementarlo utilizando el groupby)\n",
    "\n",
    "- Regresion por año y por pais."
   ]
  },
  {
   "cell_type": "code",
   "execution_count": 100,
   "metadata": {},
   "outputs": [],
   "source": [
    "df = df.dropna()\n",
    "df = df.reset_index(drop=True)"
   ]
  },
  {
   "cell_type": "code",
   "execution_count": 101,
   "metadata": {},
   "outputs": [
    {
     "data": {
      "text/html": [
       "<div>\n",
       "<style scoped>\n",
       "    .dataframe tbody tr th:only-of-type {\n",
       "        vertical-align: middle;\n",
       "    }\n",
       "\n",
       "    .dataframe tbody tr th {\n",
       "        vertical-align: top;\n",
       "    }\n",
       "\n",
       "    .dataframe thead th {\n",
       "        text-align: right;\n",
       "    }\n",
       "</style>\n",
       "<table border=\"1\" class=\"dataframe\">\n",
       "  <thead>\n",
       "    <tr style=\"text-align: right;\">\n",
       "      <th></th>\n",
       "      <th>price_index</th>\n",
       "    </tr>\n",
       "  </thead>\n",
       "  <tbody>\n",
       "    <tr>\n",
       "      <th>count</th>\n",
       "      <td>4561.000000</td>\n",
       "    </tr>\n",
       "    <tr>\n",
       "      <th>mean</th>\n",
       "      <td>90.835694</td>\n",
       "    </tr>\n",
       "    <tr>\n",
       "      <th>std</th>\n",
       "      <td>26.251676</td>\n",
       "    </tr>\n",
       "    <tr>\n",
       "      <th>min</th>\n",
       "      <td>21.870000</td>\n",
       "    </tr>\n",
       "    <tr>\n",
       "      <th>25%</th>\n",
       "      <td>76.350000</td>\n",
       "    </tr>\n",
       "    <tr>\n",
       "      <th>50%</th>\n",
       "      <td>94.700000</td>\n",
       "    </tr>\n",
       "    <tr>\n",
       "      <th>75%</th>\n",
       "      <td>103.520000</td>\n",
       "    </tr>\n",
       "    <tr>\n",
       "      <th>max</th>\n",
       "      <td>218.090000</td>\n",
       "    </tr>\n",
       "  </tbody>\n",
       "</table>\n",
       "</div>"
      ],
      "text/plain": [
       "       price_index\n",
       "count  4561.000000\n",
       "mean     90.835694\n",
       "std      26.251676\n",
       "min      21.870000\n",
       "25%      76.350000\n",
       "50%      94.700000\n",
       "75%     103.520000\n",
       "max     218.090000"
      ]
     },
     "execution_count": 101,
     "metadata": {},
     "output_type": "execute_result"
    }
   ],
   "source": [
    "df.describe()"
   ]
  },
  {
   "cell_type": "code",
   "execution_count": 102,
   "metadata": {},
   "outputs": [
    {
     "data": {
      "text/plain": [
       "South Africa      207\n",
       "United Kingdom    197\n",
       "Switzerland       191\n",
       "Canada            190\n",
       "United States     167\n",
       "New Zealand       151\n",
       "Hong Kong SAR     151\n",
       "Euro area         150\n",
       "Korea             127\n",
       "Sweden            126\n",
       "Name: country, dtype: int64"
      ]
     },
     "execution_count": 102,
     "metadata": {},
     "output_type": "execute_result"
    }
   ],
   "source": [
    "df['country'].value_counts()[:10]"
   ]
  },
  {
   "cell_type": "code",
   "execution_count": 103,
   "metadata": {},
   "outputs": [
    {
     "data": {
      "text/html": [
       "<div>\n",
       "<style scoped>\n",
       "    .dataframe tbody tr th:only-of-type {\n",
       "        vertical-align: middle;\n",
       "    }\n",
       "\n",
       "    .dataframe tbody tr th {\n",
       "        vertical-align: top;\n",
       "    }\n",
       "\n",
       "    .dataframe thead th {\n",
       "        text-align: right;\n",
       "    }\n",
       "</style>\n",
       "<table border=\"1\" class=\"dataframe\">\n",
       "  <thead>\n",
       "    <tr style=\"text-align: right;\">\n",
       "      <th></th>\n",
       "      <th>date</th>\n",
       "      <th>country</th>\n",
       "      <th>price_index</th>\n",
       "    </tr>\n",
       "  </thead>\n",
       "  <tbody>\n",
       "    <tr>\n",
       "      <th>1389</th>\n",
       "      <td>2002-06-30</td>\n",
       "      <td>Indonesia</td>\n",
       "      <td>140.26</td>\n",
       "    </tr>\n",
       "    <tr>\n",
       "      <th>3327</th>\n",
       "      <td>2012-06-30</td>\n",
       "      <td>Russia</td>\n",
       "      <td>79.68</td>\n",
       "    </tr>\n",
       "    <tr>\n",
       "      <th>3680</th>\n",
       "      <td>2013-12-31</td>\n",
       "      <td>Macedonia, FYR</td>\n",
       "      <td>83.18</td>\n",
       "    </tr>\n",
       "    <tr>\n",
       "      <th>97</th>\n",
       "      <td>1974-09-30</td>\n",
       "      <td>United Kingdom</td>\n",
       "      <td>33.03</td>\n",
       "    </tr>\n",
       "    <tr>\n",
       "      <th>2240</th>\n",
       "      <td>2007-12-31</td>\n",
       "      <td>Iceland</td>\n",
       "      <td>149.07</td>\n",
       "    </tr>\n",
       "    <tr>\n",
       "      <th>872</th>\n",
       "      <td>1995-12-31</td>\n",
       "      <td>Norway</td>\n",
       "      <td>42.20</td>\n",
       "    </tr>\n",
       "    <tr>\n",
       "      <th>2040</th>\n",
       "      <td>2006-12-31</td>\n",
       "      <td>Hong Kong SAR</td>\n",
       "      <td>67.17</td>\n",
       "    </tr>\n",
       "    <tr>\n",
       "      <th>2301</th>\n",
       "      <td>2008-03-31</td>\n",
       "      <td>Malta</td>\n",
       "      <td>110.06</td>\n",
       "    </tr>\n",
       "    <tr>\n",
       "      <th>252</th>\n",
       "      <td>1981-09-30</td>\n",
       "      <td>United Kingdom</td>\n",
       "      <td>31.80</td>\n",
       "    </tr>\n",
       "    <tr>\n",
       "      <th>3668</th>\n",
       "      <td>2013-12-31</td>\n",
       "      <td>Indonesia</td>\n",
       "      <td>105.37</td>\n",
       "    </tr>\n",
       "  </tbody>\n",
       "</table>\n",
       "</div>"
      ],
      "text/plain": [
       "           date         country  price_index\n",
       "1389 2002-06-30       Indonesia       140.26\n",
       "3327 2012-06-30          Russia        79.68\n",
       "3680 2013-12-31  Macedonia, FYR        83.18\n",
       "97   1974-09-30  United Kingdom        33.03\n",
       "2240 2007-12-31         Iceland       149.07\n",
       "872  1995-12-31          Norway        42.20\n",
       "2040 2006-12-31   Hong Kong SAR        67.17\n",
       "2301 2008-03-31           Malta       110.06\n",
       "252  1981-09-30  United Kingdom        31.80\n",
       "3668 2013-12-31       Indonesia       105.37"
      ]
     },
     "execution_count": 103,
     "metadata": {},
     "output_type": "execute_result"
    }
   ],
   "source": [
    "df.sample(10)"
   ]
  },
  {
   "cell_type": "markdown",
   "metadata": {},
   "source": [
    "- Apply / map"
   ]
  },
  {
   "cell_type": "markdown",
   "metadata": {},
   "source": [
    "- Concatenate"
   ]
  },
  {
   "cell_type": "code",
   "execution_count": null,
   "metadata": {},
   "outputs": [],
   "source": []
  },
  {
   "cell_type": "markdown",
   "metadata": {},
   "source": [
    "- Merge"
   ]
  },
  {
   "cell_type": "code",
   "execution_count": null,
   "metadata": {},
   "outputs": [],
   "source": []
  },
  {
   "cell_type": "markdown",
   "metadata": {},
   "source": [
    "- Group by"
   ]
  },
  {
   "cell_type": "code",
   "execution_count": 104,
   "metadata": {},
   "outputs": [],
   "source": [
    "df_gb = df.groupby(df['date'].dt.year)"
   ]
  },
  {
   "cell_type": "code",
   "execution_count": 146,
   "metadata": {},
   "outputs": [
    {
     "data": {
      "text/html": [
       "<div>\n",
       "<style scoped>\n",
       "    .dataframe tbody tr th:only-of-type {\n",
       "        vertical-align: middle;\n",
       "    }\n",
       "\n",
       "    .dataframe tbody tr th {\n",
       "        vertical-align: top;\n",
       "    }\n",
       "\n",
       "    .dataframe thead th {\n",
       "        text-align: right;\n",
       "    }\n",
       "</style>\n",
       "<table border=\"1\" class=\"dataframe\">\n",
       "  <thead>\n",
       "    <tr style=\"text-align: right;\">\n",
       "      <th></th>\n",
       "      <th>count</th>\n",
       "      <th>mean</th>\n",
       "      <th>median</th>\n",
       "      <th>std</th>\n",
       "      <th>min</th>\n",
       "      <th>max</th>\n",
       "    </tr>\n",
       "    <tr>\n",
       "      <th>date</th>\n",
       "      <th></th>\n",
       "      <th></th>\n",
       "      <th></th>\n",
       "      <th></th>\n",
       "      <th></th>\n",
       "      <th></th>\n",
       "    </tr>\n",
       "  </thead>\n",
       "  <tbody>\n",
       "    <tr>\n",
       "      <th>1966</th>\n",
       "      <td>4</td>\n",
       "      <td>56.462500</td>\n",
       "      <td>56.470</td>\n",
       "      <td>0.559606</td>\n",
       "      <td>55.86</td>\n",
       "      <td>57.05</td>\n",
       "    </tr>\n",
       "    <tr>\n",
       "      <th>1967</th>\n",
       "      <td>4</td>\n",
       "      <td>64.905000</td>\n",
       "      <td>65.165</td>\n",
       "      <td>1.436071</td>\n",
       "      <td>63.09</td>\n",
       "      <td>66.20</td>\n",
       "    </tr>\n",
       "    <tr>\n",
       "      <th>1968</th>\n",
       "      <td>7</td>\n",
       "      <td>47.728571</td>\n",
       "      <td>64.870</td>\n",
       "      <td>23.379287</td>\n",
       "      <td>22.50</td>\n",
       "      <td>68.94</td>\n",
       "    </tr>\n",
       "    <tr>\n",
       "      <th>1969</th>\n",
       "      <td>8</td>\n",
       "      <td>47.007500</td>\n",
       "      <td>46.060</td>\n",
       "      <td>26.132157</td>\n",
       "      <td>22.38</td>\n",
       "      <td>73.34</td>\n",
       "    </tr>\n",
       "    <tr>\n",
       "      <th>1970</th>\n",
       "      <td>16</td>\n",
       "      <td>53.925625</td>\n",
       "      <td>57.335</td>\n",
       "      <td>25.543817</td>\n",
       "      <td>21.87</td>\n",
       "      <td>80.06</td>\n",
       "    </tr>\n",
       "  </tbody>\n",
       "</table>\n",
       "</div>"
      ],
      "text/plain": [
       "      count       mean  median        std    min    max\n",
       "date                                                   \n",
       "1966      4  56.462500  56.470   0.559606  55.86  57.05\n",
       "1967      4  64.905000  65.165   1.436071  63.09  66.20\n",
       "1968      7  47.728571  64.870  23.379287  22.50  68.94\n",
       "1969      8  47.007500  46.060  26.132157  22.38  73.34\n",
       "1970     16  53.925625  57.335  25.543817  21.87  80.06"
      ]
     },
     "execution_count": 146,
     "metadata": {},
     "output_type": "execute_result"
    }
   ],
   "source": [
    "price_stats_by_year = df_gb['price_index'].agg(['count', 'mean', 'median', 'std', 'min', 'max'])\n",
    "price_stats_by_year.head()"
   ]
  },
  {
   "cell_type": "code",
   "execution_count": 151,
   "metadata": {},
   "outputs": [
    {
     "data": {
      "text/html": [
       "<div>\n",
       "<style scoped>\n",
       "    .dataframe tbody tr th:only-of-type {\n",
       "        vertical-align: middle;\n",
       "    }\n",
       "\n",
       "    .dataframe tbody tr th {\n",
       "        vertical-align: top;\n",
       "    }\n",
       "\n",
       "    .dataframe thead th {\n",
       "        text-align: right;\n",
       "    }\n",
       "</style>\n",
       "<table border=\"1\" class=\"dataframe\">\n",
       "  <thead>\n",
       "    <tr style=\"text-align: right;\">\n",
       "      <th></th>\n",
       "      <th>count</th>\n",
       "      <th>mean</th>\n",
       "      <th>median</th>\n",
       "      <th>std</th>\n",
       "      <th>min</th>\n",
       "      <th>max</th>\n",
       "    </tr>\n",
       "    <tr>\n",
       "      <th>date</th>\n",
       "      <th></th>\n",
       "      <th></th>\n",
       "      <th></th>\n",
       "      <th></th>\n",
       "      <th></th>\n",
       "      <th></th>\n",
       "    </tr>\n",
       "  </thead>\n",
       "  <tbody>\n",
       "    <tr>\n",
       "      <th>2008</th>\n",
       "      <td>227</td>\n",
       "      <td>107.030264</td>\n",
       "      <td>103.140</td>\n",
       "      <td>21.122224</td>\n",
       "      <td>66.44</td>\n",
       "      <td>207.87</td>\n",
       "    </tr>\n",
       "    <tr>\n",
       "      <th>2009</th>\n",
       "      <td>236</td>\n",
       "      <td>99.767797</td>\n",
       "      <td>100.085</td>\n",
       "      <td>7.872156</td>\n",
       "      <td>73.24</td>\n",
       "      <td>126.26</td>\n",
       "    </tr>\n",
       "    <tr>\n",
       "      <th>2010</th>\n",
       "      <td>244</td>\n",
       "      <td>100.003607</td>\n",
       "      <td>100.020</td>\n",
       "      <td>1.991602</td>\n",
       "      <td>93.34</td>\n",
       "      <td>106.25</td>\n",
       "    </tr>\n",
       "    <tr>\n",
       "      <th>2011</th>\n",
       "      <td>244</td>\n",
       "      <td>98.721885</td>\n",
       "      <td>99.305</td>\n",
       "      <td>7.388907</td>\n",
       "      <td>72.36</td>\n",
       "      <td>117.47</td>\n",
       "    </tr>\n",
       "    <tr>\n",
       "      <th>2012</th>\n",
       "      <td>244</td>\n",
       "      <td>98.596025</td>\n",
       "      <td>99.535</td>\n",
       "      <td>12.523072</td>\n",
       "      <td>68.41</td>\n",
       "      <td>140.26</td>\n",
       "    </tr>\n",
       "    <tr>\n",
       "      <th>2013</th>\n",
       "      <td>244</td>\n",
       "      <td>100.355697</td>\n",
       "      <td>100.135</td>\n",
       "      <td>17.527574</td>\n",
       "      <td>65.86</td>\n",
       "      <td>156.20</td>\n",
       "    </tr>\n",
       "    <tr>\n",
       "      <th>2014</th>\n",
       "      <td>244</td>\n",
       "      <td>103.363361</td>\n",
       "      <td>100.830</td>\n",
       "      <td>21.069284</td>\n",
       "      <td>66.42</td>\n",
       "      <td>173.42</td>\n",
       "    </tr>\n",
       "    <tr>\n",
       "      <th>2015</th>\n",
       "      <td>244</td>\n",
       "      <td>106.569713</td>\n",
       "      <td>104.700</td>\n",
       "      <td>23.044863</td>\n",
       "      <td>60.81</td>\n",
       "      <td>171.91</td>\n",
       "    </tr>\n",
       "    <tr>\n",
       "      <th>2016</th>\n",
       "      <td>244</td>\n",
       "      <td>110.237705</td>\n",
       "      <td>107.515</td>\n",
       "      <td>24.272043</td>\n",
       "      <td>55.16</td>\n",
       "      <td>178.72</td>\n",
       "    </tr>\n",
       "  </tbody>\n",
       "</table>\n",
       "</div>"
      ],
      "text/plain": [
       "      count        mean   median        std    min     max\n",
       "date                                                      \n",
       "2008    227  107.030264  103.140  21.122224  66.44  207.87\n",
       "2009    236   99.767797  100.085   7.872156  73.24  126.26\n",
       "2010    244  100.003607  100.020   1.991602  93.34  106.25\n",
       "2011    244   98.721885   99.305   7.388907  72.36  117.47\n",
       "2012    244   98.596025   99.535  12.523072  68.41  140.26\n",
       "2013    244  100.355697  100.135  17.527574  65.86  156.20\n",
       "2014    244  103.363361  100.830  21.069284  66.42  173.42\n",
       "2015    244  106.569713  104.700  23.044863  60.81  171.91\n",
       "2016    244  110.237705  107.515  24.272043  55.16  178.72"
      ]
     },
     "execution_count": 151,
     "metadata": {},
     "output_type": "execute_result"
    }
   ],
   "source": [
    "price_stats_by_year_more_than_200 = price_stats_by_year[price_stats_by_year['count'] > 200]\n",
    "price_stats_by_year_more_than_200"
   ]
  },
  {
   "cell_type": "code",
   "execution_count": 136,
   "metadata": {},
   "outputs": [],
   "source": [
    "def normalize(serie):\n",
    "    return serie.mean() - serie.std()"
   ]
  },
  {
   "cell_type": "code",
   "execution_count": 144,
   "metadata": {},
   "outputs": [
    {
     "data": {
      "text/html": [
       "<div>\n",
       "<style scoped>\n",
       "    .dataframe tbody tr th:only-of-type {\n",
       "        vertical-align: middle;\n",
       "    }\n",
       "\n",
       "    .dataframe tbody tr th {\n",
       "        vertical-align: top;\n",
       "    }\n",
       "\n",
       "    .dataframe thead th {\n",
       "        text-align: right;\n",
       "    }\n",
       "</style>\n",
       "<table border=\"1\" class=\"dataframe\">\n",
       "  <thead>\n",
       "    <tr style=\"text-align: right;\">\n",
       "      <th></th>\n",
       "      <th>norm_price_index</th>\n",
       "    </tr>\n",
       "    <tr>\n",
       "      <th>date</th>\n",
       "      <th></th>\n",
       "    </tr>\n",
       "  </thead>\n",
       "  <tbody>\n",
       "    <tr>\n",
       "      <th>1966</th>\n",
       "      <td>55.902894</td>\n",
       "    </tr>\n",
       "    <tr>\n",
       "      <th>1967</th>\n",
       "      <td>63.468929</td>\n",
       "    </tr>\n",
       "    <tr>\n",
       "      <th>1968</th>\n",
       "      <td>24.349284</td>\n",
       "    </tr>\n",
       "    <tr>\n",
       "      <th>1969</th>\n",
       "      <td>20.875343</td>\n",
       "    </tr>\n",
       "    <tr>\n",
       "      <th>1970</th>\n",
       "      <td>28.381808</td>\n",
       "    </tr>\n",
       "  </tbody>\n",
       "</table>\n",
       "</div>"
      ],
      "text/plain": [
       "      norm_price_index\n",
       "date                  \n",
       "1966         55.902894\n",
       "1967         63.468929\n",
       "1968         24.349284\n",
       "1969         20.875343\n",
       "1970         28.381808"
      ]
     },
     "execution_count": 144,
     "metadata": {},
     "output_type": "execute_result"
    }
   ],
   "source": [
    "price_norm_by_year = df_gb['price_index'].agg(normalize).to_frame()\n",
    "price_norm_by_year.rename(columns={'price_index': 'norm_price_index'}, inplace=True)\n",
    "price_norm_by_year.head()"
   ]
  },
  {
   "cell_type": "markdown",
   "metadata": {},
   "source": [
    "- Merge"
   ]
  },
  {
   "cell_type": "code",
   "execution_count": 157,
   "metadata": {},
   "outputs": [
    {
     "data": {
      "text/html": [
       "<div>\n",
       "<style scoped>\n",
       "    .dataframe tbody tr th:only-of-type {\n",
       "        vertical-align: middle;\n",
       "    }\n",
       "\n",
       "    .dataframe tbody tr th {\n",
       "        vertical-align: top;\n",
       "    }\n",
       "\n",
       "    .dataframe thead th {\n",
       "        text-align: right;\n",
       "    }\n",
       "</style>\n",
       "<table border=\"1\" class=\"dataframe\">\n",
       "  <thead>\n",
       "    <tr style=\"text-align: right;\">\n",
       "      <th></th>\n",
       "      <th>count</th>\n",
       "      <th>mean</th>\n",
       "      <th>median</th>\n",
       "      <th>std</th>\n",
       "      <th>min</th>\n",
       "      <th>max</th>\n",
       "      <th>norm_price_index</th>\n",
       "    </tr>\n",
       "    <tr>\n",
       "      <th>date</th>\n",
       "      <th></th>\n",
       "      <th></th>\n",
       "      <th></th>\n",
       "      <th></th>\n",
       "      <th></th>\n",
       "      <th></th>\n",
       "      <th></th>\n",
       "    </tr>\n",
       "  </thead>\n",
       "  <tbody>\n",
       "    <tr>\n",
       "      <th>2008</th>\n",
       "      <td>227</td>\n",
       "      <td>107.030264</td>\n",
       "      <td>103.140</td>\n",
       "      <td>21.122224</td>\n",
       "      <td>66.44</td>\n",
       "      <td>207.87</td>\n",
       "      <td>85.908040</td>\n",
       "    </tr>\n",
       "    <tr>\n",
       "      <th>2009</th>\n",
       "      <td>236</td>\n",
       "      <td>99.767797</td>\n",
       "      <td>100.085</td>\n",
       "      <td>7.872156</td>\n",
       "      <td>73.24</td>\n",
       "      <td>126.26</td>\n",
       "      <td>91.895640</td>\n",
       "    </tr>\n",
       "    <tr>\n",
       "      <th>2010</th>\n",
       "      <td>244</td>\n",
       "      <td>100.003607</td>\n",
       "      <td>100.020</td>\n",
       "      <td>1.991602</td>\n",
       "      <td>93.34</td>\n",
       "      <td>106.25</td>\n",
       "      <td>98.012005</td>\n",
       "    </tr>\n",
       "    <tr>\n",
       "      <th>2011</th>\n",
       "      <td>244</td>\n",
       "      <td>98.721885</td>\n",
       "      <td>99.305</td>\n",
       "      <td>7.388907</td>\n",
       "      <td>72.36</td>\n",
       "      <td>117.47</td>\n",
       "      <td>91.332978</td>\n",
       "    </tr>\n",
       "    <tr>\n",
       "      <th>2012</th>\n",
       "      <td>244</td>\n",
       "      <td>98.596025</td>\n",
       "      <td>99.535</td>\n",
       "      <td>12.523072</td>\n",
       "      <td>68.41</td>\n",
       "      <td>140.26</td>\n",
       "      <td>86.072952</td>\n",
       "    </tr>\n",
       "    <tr>\n",
       "      <th>2013</th>\n",
       "      <td>244</td>\n",
       "      <td>100.355697</td>\n",
       "      <td>100.135</td>\n",
       "      <td>17.527574</td>\n",
       "      <td>65.86</td>\n",
       "      <td>156.20</td>\n",
       "      <td>82.828123</td>\n",
       "    </tr>\n",
       "    <tr>\n",
       "      <th>2014</th>\n",
       "      <td>244</td>\n",
       "      <td>103.363361</td>\n",
       "      <td>100.830</td>\n",
       "      <td>21.069284</td>\n",
       "      <td>66.42</td>\n",
       "      <td>173.42</td>\n",
       "      <td>82.294076</td>\n",
       "    </tr>\n",
       "    <tr>\n",
       "      <th>2015</th>\n",
       "      <td>244</td>\n",
       "      <td>106.569713</td>\n",
       "      <td>104.700</td>\n",
       "      <td>23.044863</td>\n",
       "      <td>60.81</td>\n",
       "      <td>171.91</td>\n",
       "      <td>83.524850</td>\n",
       "    </tr>\n",
       "    <tr>\n",
       "      <th>2016</th>\n",
       "      <td>244</td>\n",
       "      <td>110.237705</td>\n",
       "      <td>107.515</td>\n",
       "      <td>24.272043</td>\n",
       "      <td>55.16</td>\n",
       "      <td>178.72</td>\n",
       "      <td>85.965662</td>\n",
       "    </tr>\n",
       "  </tbody>\n",
       "</table>\n",
       "</div>"
      ],
      "text/plain": [
       "      count        mean   median        std    min     max  norm_price_index\n",
       "date                                                                        \n",
       "2008    227  107.030264  103.140  21.122224  66.44  207.87         85.908040\n",
       "2009    236   99.767797  100.085   7.872156  73.24  126.26         91.895640\n",
       "2010    244  100.003607  100.020   1.991602  93.34  106.25         98.012005\n",
       "2011    244   98.721885   99.305   7.388907  72.36  117.47         91.332978\n",
       "2012    244   98.596025   99.535  12.523072  68.41  140.26         86.072952\n",
       "2013    244  100.355697  100.135  17.527574  65.86  156.20         82.828123\n",
       "2014    244  103.363361  100.830  21.069284  66.42  173.42         82.294076\n",
       "2015    244  106.569713  104.700  23.044863  60.81  171.91         83.524850\n",
       "2016    244  110.237705  107.515  24.272043  55.16  178.72         85.965662"
      ]
     },
     "execution_count": 157,
     "metadata": {},
     "output_type": "execute_result"
    }
   ],
   "source": [
    "price_stats_by_year_more_than_200.merge(price_norm_by_year, how='left',\n",
    "                                        left_index=True, right_index=True)"
   ]
  },
  {
   "cell_type": "code",
   "execution_count": null,
   "metadata": {},
   "outputs": [],
   "source": []
  },
  {
   "cell_type": "code",
   "execution_count": null,
   "metadata": {},
   "outputs": [],
   "source": []
  },
  {
   "cell_type": "code",
   "execution_count": 128,
   "metadata": {},
   "outputs": [
    {
     "data": {
      "text/html": [
       "<div>\n",
       "<style scoped>\n",
       "    .dataframe tbody tr th:only-of-type {\n",
       "        vertical-align: middle;\n",
       "    }\n",
       "\n",
       "    .dataframe tbody tr th {\n",
       "        vertical-align: top;\n",
       "    }\n",
       "\n",
       "    .dataframe thead th {\n",
       "        text-align: right;\n",
       "    }\n",
       "</style>\n",
       "<table border=\"1\" class=\"dataframe\">\n",
       "  <thead>\n",
       "    <tr style=\"text-align: right;\">\n",
       "      <th></th>\n",
       "      <th>count</th>\n",
       "      <th>mean</th>\n",
       "      <th>median</th>\n",
       "      <th>std</th>\n",
       "      <th>min</th>\n",
       "      <th>max</th>\n",
       "    </tr>\n",
       "    <tr>\n",
       "      <th>date</th>\n",
       "      <th></th>\n",
       "      <th></th>\n",
       "      <th></th>\n",
       "      <th></th>\n",
       "      <th></th>\n",
       "      <th></th>\n",
       "    </tr>\n",
       "  </thead>\n",
       "  <tbody>\n",
       "    <tr>\n",
       "      <th>2008</th>\n",
       "      <td>227</td>\n",
       "      <td>107.030264</td>\n",
       "      <td>103.140</td>\n",
       "      <td>21.122224</td>\n",
       "      <td>66.44</td>\n",
       "      <td>207.87</td>\n",
       "    </tr>\n",
       "    <tr>\n",
       "      <th>2009</th>\n",
       "      <td>236</td>\n",
       "      <td>99.767797</td>\n",
       "      <td>100.085</td>\n",
       "      <td>7.872156</td>\n",
       "      <td>73.24</td>\n",
       "      <td>126.26</td>\n",
       "    </tr>\n",
       "    <tr>\n",
       "      <th>2010</th>\n",
       "      <td>244</td>\n",
       "      <td>100.003607</td>\n",
       "      <td>100.020</td>\n",
       "      <td>1.991602</td>\n",
       "      <td>93.34</td>\n",
       "      <td>106.25</td>\n",
       "    </tr>\n",
       "    <tr>\n",
       "      <th>2011</th>\n",
       "      <td>244</td>\n",
       "      <td>98.721885</td>\n",
       "      <td>99.305</td>\n",
       "      <td>7.388907</td>\n",
       "      <td>72.36</td>\n",
       "      <td>117.47</td>\n",
       "    </tr>\n",
       "    <tr>\n",
       "      <th>2012</th>\n",
       "      <td>244</td>\n",
       "      <td>98.596025</td>\n",
       "      <td>99.535</td>\n",
       "      <td>12.523072</td>\n",
       "      <td>68.41</td>\n",
       "      <td>140.26</td>\n",
       "    </tr>\n",
       "    <tr>\n",
       "      <th>2013</th>\n",
       "      <td>244</td>\n",
       "      <td>100.355697</td>\n",
       "      <td>100.135</td>\n",
       "      <td>17.527574</td>\n",
       "      <td>65.86</td>\n",
       "      <td>156.20</td>\n",
       "    </tr>\n",
       "    <tr>\n",
       "      <th>2014</th>\n",
       "      <td>244</td>\n",
       "      <td>103.363361</td>\n",
       "      <td>100.830</td>\n",
       "      <td>21.069284</td>\n",
       "      <td>66.42</td>\n",
       "      <td>173.42</td>\n",
       "    </tr>\n",
       "    <tr>\n",
       "      <th>2015</th>\n",
       "      <td>244</td>\n",
       "      <td>106.569713</td>\n",
       "      <td>104.700</td>\n",
       "      <td>23.044863</td>\n",
       "      <td>60.81</td>\n",
       "      <td>171.91</td>\n",
       "    </tr>\n",
       "    <tr>\n",
       "      <th>2016</th>\n",
       "      <td>244</td>\n",
       "      <td>110.237705</td>\n",
       "      <td>107.515</td>\n",
       "      <td>24.272043</td>\n",
       "      <td>55.16</td>\n",
       "      <td>178.72</td>\n",
       "    </tr>\n",
       "  </tbody>\n",
       "</table>\n",
       "</div>"
      ],
      "text/plain": [
       "      count        mean   median        std    min     max\n",
       "date                                                      \n",
       "2008    227  107.030264  103.140  21.122224  66.44  207.87\n",
       "2009    236   99.767797  100.085   7.872156  73.24  126.26\n",
       "2010    244  100.003607  100.020   1.991602  93.34  106.25\n",
       "2011    244   98.721885   99.305   7.388907  72.36  117.47\n",
       "2012    244   98.596025   99.535  12.523072  68.41  140.26\n",
       "2013    244  100.355697  100.135  17.527574  65.86  156.20\n",
       "2014    244  103.363361  100.830  21.069284  66.42  173.42\n",
       "2015    244  106.569713  104.700  23.044863  60.81  171.91\n",
       "2016    244  110.237705  107.515  24.272043  55.16  178.72"
      ]
     },
     "execution_count": 128,
     "metadata": {},
     "output_type": "execute_result"
    }
   ],
   "source": []
  },
  {
   "cell_type": "code",
   "execution_count": null,
   "metadata": {},
   "outputs": [],
   "source": []
  },
  {
   "cell_type": "code",
   "execution_count": null,
   "metadata": {},
   "outputs": [],
   "source": []
  },
  {
   "cell_type": "code",
   "execution_count": 60,
   "metadata": {},
   "outputs": [
    {
     "data": {
      "text/html": [
       "<div>\n",
       "<style scoped>\n",
       "    .dataframe tbody tr th:only-of-type {\n",
       "        vertical-align: middle;\n",
       "    }\n",
       "\n",
       "    .dataframe tbody tr th {\n",
       "        vertical-align: top;\n",
       "    }\n",
       "\n",
       "    .dataframe thead tr th {\n",
       "        text-align: left;\n",
       "    }\n",
       "\n",
       "    .dataframe thead tr:last-of-type th {\n",
       "        text-align: right;\n",
       "    }\n",
       "</style>\n",
       "<table border=\"1\" class=\"dataframe\">\n",
       "  <thead>\n",
       "    <tr>\n",
       "      <th></th>\n",
       "      <th></th>\n",
       "      <th colspan=\"2\" halign=\"left\">gdp</th>\n",
       "      <th colspan=\"2\" halign=\"left\">gini</th>\n",
       "    </tr>\n",
       "    <tr>\n",
       "      <th></th>\n",
       "      <th></th>\n",
       "      <th>2017</th>\n",
       "      <th>2018</th>\n",
       "      <th>2017</th>\n",
       "      <th>2018</th>\n",
       "    </tr>\n",
       "    <tr>\n",
       "      <th>continent</th>\n",
       "      <th>country</th>\n",
       "      <th></th>\n",
       "      <th></th>\n",
       "      <th></th>\n",
       "      <th></th>\n",
       "    </tr>\n",
       "  </thead>\n",
       "  <tbody>\n",
       "    <tr>\n",
       "      <th>Americas</th>\n",
       "      <th>USA</th>\n",
       "      <td>19390604</td>\n",
       "      <td>20035183</td>\n",
       "      <td>47.0</td>\n",
       "      <td>49.0</td>\n",
       "    </tr>\n",
       "    <tr>\n",
       "      <th rowspan=\"2\" valign=\"top\">Asia</th>\n",
       "      <th>China</th>\n",
       "      <td>12237700</td>\n",
       "      <td>15554902</td>\n",
       "      <td>46.5</td>\n",
       "      <td>48.0</td>\n",
       "    </tr>\n",
       "    <tr>\n",
       "      <th>Japan</th>\n",
       "      <td>4872137</td>\n",
       "      <td>4893502</td>\n",
       "      <td>37.9</td>\n",
       "      <td>36.2</td>\n",
       "    </tr>\n",
       "    <tr>\n",
       "      <th rowspan=\"2\" valign=\"top\">Europe</th>\n",
       "      <th>Germany</th>\n",
       "      <td>3677439</td>\n",
       "      <td>3732192</td>\n",
       "      <td>27.0</td>\n",
       "      <td>27.3</td>\n",
       "    </tr>\n",
       "    <tr>\n",
       "      <th>UK</th>\n",
       "      <td>2622434</td>\n",
       "      <td>2591883</td>\n",
       "      <td>32.4</td>\n",
       "      <td>34.1</td>\n",
       "    </tr>\n",
       "    <tr>\n",
       "      <th>Asia</th>\n",
       "      <th>India</th>\n",
       "      <td>2597491</td>\n",
       "      <td>2712658</td>\n",
       "      <td>35.1</td>\n",
       "      <td>37.9</td>\n",
       "    </tr>\n",
       "  </tbody>\n",
       "</table>\n",
       "</div>"
      ],
      "text/plain": [
       "                        gdp            gini      \n",
       "                       2017      2018  2017  2018\n",
       "continent country                                \n",
       "Americas  USA      19390604  20035183  47.0  49.0\n",
       "Asia      China    12237700  15554902  46.5  48.0\n",
       "          Japan     4872137   4893502  37.9  36.2\n",
       "Europe    Germany   3677439   3732192  27.0  27.3\n",
       "          UK        2622434   2591883  32.4  34.1\n",
       "Asia      India     2597491   2712658  35.1  37.9"
      ]
     },
     "execution_count": 60,
     "metadata": {},
     "output_type": "execute_result"
    }
   ],
   "source": [
    "gdp = (pandas.DataFrame([('USA', 'Americas', 19_390_604, 20_035_183, 47., 49.),\n",
    "                        ('China', 'Asia', 12_237_700, 15_554_902, 46.5, 48.),\n",
    "                        ('Japan', 'Asia', 4_872_137, 4_893_502, 37.9, 36.2),\n",
    "                        ('Germany', 'Europe', 3_677_439, 3_732_192, 27., 27.3),\n",
    "                        ('UK', 'Europe', 2_622_434, 2_591_883, 32.4, 34.1),\n",
    "                        ('India', 'Asia', 2_597_491, 2_712_658, 35.1, 37.9)],\n",
    "                       columns=['country', 'continent', None, None, None, None])\n",
    "             .set_index(['continent', 'country']))\n",
    "gdp.columns = [['gdp', 'gdp', 'gini', 'gini'], [2017, 2018] * 2]\n",
    "gdp"
   ]
  },
  {
   "cell_type": "code",
   "execution_count": 67,
   "metadata": {},
   "outputs": [
    {
     "data": {
      "text/html": [
       "<div>\n",
       "<style scoped>\n",
       "    .dataframe tbody tr th:only-of-type {\n",
       "        vertical-align: middle;\n",
       "    }\n",
       "\n",
       "    .dataframe tbody tr th {\n",
       "        vertical-align: top;\n",
       "    }\n",
       "\n",
       "    .dataframe thead tr th {\n",
       "        text-align: left;\n",
       "    }\n",
       "\n",
       "    .dataframe thead tr:last-of-type th {\n",
       "        text-align: right;\n",
       "    }\n",
       "</style>\n",
       "<table border=\"1\" class=\"dataframe\">\n",
       "  <thead>\n",
       "    <tr>\n",
       "      <th></th>\n",
       "      <th colspan=\"2\" halign=\"left\">gdp</th>\n",
       "      <th colspan=\"2\" halign=\"left\">gini</th>\n",
       "    </tr>\n",
       "    <tr>\n",
       "      <th></th>\n",
       "      <th>2017</th>\n",
       "      <th>2018</th>\n",
       "      <th>2017</th>\n",
       "      <th>2018</th>\n",
       "    </tr>\n",
       "    <tr>\n",
       "      <th>country</th>\n",
       "      <th></th>\n",
       "      <th></th>\n",
       "      <th></th>\n",
       "      <th></th>\n",
       "    </tr>\n",
       "  </thead>\n",
       "  <tbody>\n",
       "    <tr>\n",
       "      <th>China</th>\n",
       "      <td>12237700</td>\n",
       "      <td>15554902</td>\n",
       "      <td>46.5</td>\n",
       "      <td>48.0</td>\n",
       "    </tr>\n",
       "    <tr>\n",
       "      <th>Japan</th>\n",
       "      <td>4872137</td>\n",
       "      <td>4893502</td>\n",
       "      <td>37.9</td>\n",
       "      <td>36.2</td>\n",
       "    </tr>\n",
       "    <tr>\n",
       "      <th>India</th>\n",
       "      <td>2597491</td>\n",
       "      <td>2712658</td>\n",
       "      <td>35.1</td>\n",
       "      <td>37.9</td>\n",
       "    </tr>\n",
       "  </tbody>\n",
       "</table>\n",
       "</div>"
      ],
      "text/plain": [
       "              gdp            gini      \n",
       "             2017      2018  2017  2018\n",
       "country                                \n",
       "China    12237700  15554902  46.5  48.0\n",
       "Japan     4872137   4893502  37.9  36.2\n",
       "India     2597491   2712658  35.1  37.9"
      ]
     },
     "execution_count": 67,
     "metadata": {},
     "output_type": "execute_result"
    }
   ],
   "source": [
    "gdp.loc['Asia']"
   ]
  },
  {
   "cell_type": "code",
   "execution_count": 68,
   "metadata": {},
   "outputs": [
    {
     "data": {
      "text/html": [
       "<div>\n",
       "<style scoped>\n",
       "    .dataframe tbody tr th:only-of-type {\n",
       "        vertical-align: middle;\n",
       "    }\n",
       "\n",
       "    .dataframe tbody tr th {\n",
       "        vertical-align: top;\n",
       "    }\n",
       "\n",
       "    .dataframe thead th {\n",
       "        text-align: right;\n",
       "    }\n",
       "</style>\n",
       "<table border=\"1\" class=\"dataframe\">\n",
       "  <thead>\n",
       "    <tr style=\"text-align: right;\">\n",
       "      <th></th>\n",
       "      <th>2017</th>\n",
       "      <th>2018</th>\n",
       "    </tr>\n",
       "    <tr>\n",
       "      <th>country</th>\n",
       "      <th></th>\n",
       "      <th></th>\n",
       "    </tr>\n",
       "  </thead>\n",
       "  <tbody>\n",
       "    <tr>\n",
       "      <th>China</th>\n",
       "      <td>12237700</td>\n",
       "      <td>15554902</td>\n",
       "    </tr>\n",
       "    <tr>\n",
       "      <th>Japan</th>\n",
       "      <td>4872137</td>\n",
       "      <td>4893502</td>\n",
       "    </tr>\n",
       "    <tr>\n",
       "      <th>India</th>\n",
       "      <td>2597491</td>\n",
       "      <td>2712658</td>\n",
       "    </tr>\n",
       "  </tbody>\n",
       "</table>\n",
       "</div>"
      ],
      "text/plain": [
       "             2017      2018\n",
       "country                    \n",
       "China    12237700  15554902\n",
       "Japan     4872137   4893502\n",
       "India     2597491   2712658"
      ]
     },
     "execution_count": 68,
     "metadata": {},
     "output_type": "execute_result"
    }
   ],
   "source": [
    "gdp.loc['Asia', 'gdp']"
   ]
  },
  {
   "cell_type": "code",
   "execution_count": 72,
   "metadata": {},
   "outputs": [
    {
     "data": {
      "text/html": [
       "<div>\n",
       "<style scoped>\n",
       "    .dataframe tbody tr th:only-of-type {\n",
       "        vertical-align: middle;\n",
       "    }\n",
       "\n",
       "    .dataframe tbody tr th {\n",
       "        vertical-align: top;\n",
       "    }\n",
       "\n",
       "    .dataframe thead tr th {\n",
       "        text-align: left;\n",
       "    }\n",
       "\n",
       "    .dataframe thead tr:last-of-type th {\n",
       "        text-align: right;\n",
       "    }\n",
       "</style>\n",
       "<table border=\"1\" class=\"dataframe\">\n",
       "  <thead>\n",
       "    <tr>\n",
       "      <th></th>\n",
       "      <th></th>\n",
       "      <th colspan=\"2\" halign=\"left\">gdp</th>\n",
       "      <th colspan=\"2\" halign=\"left\">gini</th>\n",
       "    </tr>\n",
       "    <tr>\n",
       "      <th></th>\n",
       "      <th></th>\n",
       "      <th>2017</th>\n",
       "      <th>2018</th>\n",
       "      <th>2017</th>\n",
       "      <th>2018</th>\n",
       "    </tr>\n",
       "    <tr>\n",
       "      <th>continent</th>\n",
       "      <th>country</th>\n",
       "      <th></th>\n",
       "      <th></th>\n",
       "      <th></th>\n",
       "      <th></th>\n",
       "    </tr>\n",
       "  </thead>\n",
       "  <tbody>\n",
       "    <tr>\n",
       "      <th>Americas</th>\n",
       "      <th>USA</th>\n",
       "      <td>19390604</td>\n",
       "      <td>20035183</td>\n",
       "      <td>47.0</td>\n",
       "      <td>49.0</td>\n",
       "    </tr>\n",
       "    <tr>\n",
       "      <th rowspan=\"2\" valign=\"top\">Asia</th>\n",
       "      <th>China</th>\n",
       "      <td>12237700</td>\n",
       "      <td>15554902</td>\n",
       "      <td>46.5</td>\n",
       "      <td>48.0</td>\n",
       "    </tr>\n",
       "    <tr>\n",
       "      <th>Japan</th>\n",
       "      <td>4872137</td>\n",
       "      <td>4893502</td>\n",
       "      <td>37.9</td>\n",
       "      <td>36.2</td>\n",
       "    </tr>\n",
       "    <tr>\n",
       "      <th rowspan=\"2\" valign=\"top\">Europe</th>\n",
       "      <th>Germany</th>\n",
       "      <td>3677439</td>\n",
       "      <td>3732192</td>\n",
       "      <td>27.0</td>\n",
       "      <td>27.3</td>\n",
       "    </tr>\n",
       "    <tr>\n",
       "      <th>UK</th>\n",
       "      <td>2622434</td>\n",
       "      <td>2591883</td>\n",
       "      <td>32.4</td>\n",
       "      <td>34.1</td>\n",
       "    </tr>\n",
       "    <tr>\n",
       "      <th>Asia</th>\n",
       "      <th>India</th>\n",
       "      <td>2597491</td>\n",
       "      <td>2712658</td>\n",
       "      <td>35.1</td>\n",
       "      <td>37.9</td>\n",
       "    </tr>\n",
       "  </tbody>\n",
       "</table>\n",
       "</div>"
      ],
      "text/plain": [
       "                        gdp            gini      \n",
       "                       2017      2018  2017  2018\n",
       "continent country                                \n",
       "Americas  USA      19390604  20035183  47.0  49.0\n",
       "Asia      China    12237700  15554902  46.5  48.0\n",
       "          Japan     4872137   4893502  37.9  36.2\n",
       "Europe    Germany   3677439   3732192  27.0  27.3\n",
       "          UK        2622434   2591883  32.4  34.1\n",
       "Asia      India     2597491   2712658  35.1  37.9"
      ]
     },
     "execution_count": 72,
     "metadata": {},
     "output_type": "execute_result"
    }
   ],
   "source": [
    "gdp"
   ]
  },
  {
   "cell_type": "code",
   "execution_count": 74,
   "metadata": {},
   "outputs": [
    {
     "data": {
      "text/html": [
       "<div>\n",
       "<style scoped>\n",
       "    .dataframe tbody tr th:only-of-type {\n",
       "        vertical-align: middle;\n",
       "    }\n",
       "\n",
       "    .dataframe tbody tr th {\n",
       "        vertical-align: top;\n",
       "    }\n",
       "\n",
       "    .dataframe thead th {\n",
       "        text-align: right;\n",
       "    }\n",
       "</style>\n",
       "<table border=\"1\" class=\"dataframe\">\n",
       "  <thead>\n",
       "    <tr style=\"text-align: right;\">\n",
       "      <th></th>\n",
       "      <th></th>\n",
       "      <th>gdp</th>\n",
       "      <th>gini</th>\n",
       "    </tr>\n",
       "    <tr>\n",
       "      <th>continent</th>\n",
       "      <th>country</th>\n",
       "      <th></th>\n",
       "      <th></th>\n",
       "    </tr>\n",
       "  </thead>\n",
       "  <tbody>\n",
       "    <tr>\n",
       "      <th>Americas</th>\n",
       "      <th>USA</th>\n",
       "      <td>20035183</td>\n",
       "      <td>49.0</td>\n",
       "    </tr>\n",
       "    <tr>\n",
       "      <th rowspan=\"2\" valign=\"top\">Asia</th>\n",
       "      <th>China</th>\n",
       "      <td>15554902</td>\n",
       "      <td>48.0</td>\n",
       "    </tr>\n",
       "    <tr>\n",
       "      <th>Japan</th>\n",
       "      <td>4893502</td>\n",
       "      <td>36.2</td>\n",
       "    </tr>\n",
       "    <tr>\n",
       "      <th rowspan=\"2\" valign=\"top\">Europe</th>\n",
       "      <th>Germany</th>\n",
       "      <td>3732192</td>\n",
       "      <td>27.3</td>\n",
       "    </tr>\n",
       "    <tr>\n",
       "      <th>UK</th>\n",
       "      <td>2591883</td>\n",
       "      <td>34.1</td>\n",
       "    </tr>\n",
       "    <tr>\n",
       "      <th>Asia</th>\n",
       "      <th>India</th>\n",
       "      <td>2712658</td>\n",
       "      <td>37.9</td>\n",
       "    </tr>\n",
       "  </tbody>\n",
       "</table>\n",
       "</div>"
      ],
      "text/plain": [
       "                        gdp  gini\n",
       "continent country                \n",
       "Americas  USA      20035183  49.0\n",
       "Asia      China    15554902  48.0\n",
       "          Japan     4893502  36.2\n",
       "Europe    Germany   3732192  27.3\n",
       "          UK        2591883  34.1\n",
       "Asia      India     2712658  37.9"
      ]
     },
     "execution_count": 74,
     "metadata": {},
     "output_type": "execute_result"
    }
   ],
   "source": [
    "gdp.xs(2018, axis='columns', level=1) # Returns a cross-section"
   ]
  },
  {
   "cell_type": "code",
   "execution_count": null,
   "metadata": {},
   "outputs": [],
   "source": []
  },
  {
   "cell_type": "code",
   "execution_count": 77,
   "metadata": {},
   "outputs": [
    {
     "data": {
      "text/html": [
       "<div>\n",
       "<style scoped>\n",
       "    .dataframe tbody tr th:only-of-type {\n",
       "        vertical-align: middle;\n",
       "    }\n",
       "\n",
       "    .dataframe tbody tr th {\n",
       "        vertical-align: top;\n",
       "    }\n",
       "\n",
       "    .dataframe thead th {\n",
       "        text-align: right;\n",
       "    }\n",
       "</style>\n",
       "<table border=\"1\" class=\"dataframe\">\n",
       "  <thead>\n",
       "    <tr style=\"text-align: right;\">\n",
       "      <th></th>\n",
       "      <th>Country (en)</th>\n",
       "      <th>Country (de)</th>\n",
       "      <th>Country (local)</th>\n",
       "      <th>Country code</th>\n",
       "      <th>Continent</th>\n",
       "      <th>Capital</th>\n",
       "      <th>Population</th>\n",
       "      <th>Area</th>\n",
       "      <th>Coastline</th>\n",
       "      <th>Government form</th>\n",
       "      <th>Currency</th>\n",
       "      <th>Currency code</th>\n",
       "      <th>Dialing prefix</th>\n",
       "      <th>Birthrate</th>\n",
       "      <th>Deathrate</th>\n",
       "      <th>Url</th>\n",
       "    </tr>\n",
       "  </thead>\n",
       "  <tbody>\n",
       "    <tr>\n",
       "      <th>0</th>\n",
       "      <td>Albania</td>\n",
       "      <td>Albanien</td>\n",
       "      <td>Shqipëria</td>\n",
       "      <td>AL</td>\n",
       "      <td>Europe</td>\n",
       "      <td>Tirana</td>\n",
       "      <td>2873457</td>\n",
       "      <td>28750</td>\n",
       "      <td>362</td>\n",
       "      <td>Parliamentary republic</td>\n",
       "      <td>Lek</td>\n",
       "      <td>ALL</td>\n",
       "      <td>355</td>\n",
       "      <td>11.8</td>\n",
       "      <td>7.4</td>\n",
       "      <td>https://www.laenderdaten.info/Europa/Albanien/...</td>\n",
       "    </tr>\n",
       "    <tr>\n",
       "      <th>1</th>\n",
       "      <td>Angola</td>\n",
       "      <td>Angola</td>\n",
       "      <td>Angola</td>\n",
       "      <td>AO</td>\n",
       "      <td>Africa</td>\n",
       "      <td>Luanda</td>\n",
       "      <td>29784193</td>\n",
       "      <td>1246700</td>\n",
       "      <td>1600</td>\n",
       "      <td>Presidential republic</td>\n",
       "      <td>Kwanza</td>\n",
       "      <td>AOA</td>\n",
       "      <td>244</td>\n",
       "      <td>41.8</td>\n",
       "      <td>8.5</td>\n",
       "      <td>https://www.laenderdaten.info/Afrika/Angola/in...</td>\n",
       "    </tr>\n",
       "    <tr>\n",
       "      <th>2</th>\n",
       "      <td>Equatorial Guinea</td>\n",
       "      <td>Äquatorialguinea</td>\n",
       "      <td>Guinea Ecuatorial</td>\n",
       "      <td>GQ</td>\n",
       "      <td>Africa</td>\n",
       "      <td>Malabo</td>\n",
       "      <td>1267689</td>\n",
       "      <td>28050</td>\n",
       "      <td>296</td>\n",
       "      <td>Presidential republic</td>\n",
       "      <td>Central African Franc</td>\n",
       "      <td>XAF</td>\n",
       "      <td>240</td>\n",
       "      <td>34.1</td>\n",
       "      <td>10.2</td>\n",
       "      <td>https://www.laenderdaten.info/Afrika/Aequatori...</td>\n",
       "    </tr>\n",
       "    <tr>\n",
       "      <th>3</th>\n",
       "      <td>Azerbaijan</td>\n",
       "      <td>Aserbaidschan</td>\n",
       "      <td>Azärbaycan</td>\n",
       "      <td>AZ</td>\n",
       "      <td>Asia</td>\n",
       "      <td>Baku</td>\n",
       "      <td>9862429</td>\n",
       "      <td>86600</td>\n",
       "      <td>0</td>\n",
       "      <td>Presidential republic</td>\n",
       "      <td>Manat</td>\n",
       "      <td>AZN</td>\n",
       "      <td>994</td>\n",
       "      <td>16.3</td>\n",
       "      <td>5.8</td>\n",
       "      <td>https://www.laenderdaten.info/Asien/Aserbaidsc...</td>\n",
       "    </tr>\n",
       "  </tbody>\n",
       "</table>\n",
       "</div>"
      ],
      "text/plain": [
       "        Country (en)      Country (de)    Country (local) Country code  \\\n",
       "0            Albania          Albanien          Shqipëria           AL   \n",
       "1             Angola            Angola             Angola           AO   \n",
       "2  Equatorial Guinea  Äquatorialguinea  Guinea Ecuatorial           GQ   \n",
       "3         Azerbaijan     Aserbaidschan         Azärbaycan           AZ   \n",
       "\n",
       "  Continent Capital  Population     Area  Coastline         Government form  \\\n",
       "0    Europe  Tirana     2873457    28750        362  Parliamentary republic   \n",
       "1    Africa  Luanda    29784193  1246700       1600   Presidential republic   \n",
       "2    Africa  Malabo     1267689    28050        296   Presidential republic   \n",
       "3      Asia    Baku     9862429    86600          0   Presidential republic   \n",
       "\n",
       "                Currency Currency code  Dialing prefix  Birthrate  Deathrate  \\\n",
       "0                    Lek           ALL             355       11.8        7.4   \n",
       "1                 Kwanza           AOA             244       41.8        8.5   \n",
       "2  Central African Franc           XAF             240       34.1       10.2   \n",
       "3                  Manat           AZN             994       16.3        5.8   \n",
       "\n",
       "                                                 Url  \n",
       "0  https://www.laenderdaten.info/Europa/Albanien/...  \n",
       "1  https://www.laenderdaten.info/Afrika/Angola/in...  \n",
       "2  https://www.laenderdaten.info/Afrika/Aequatori...  \n",
       "3  https://www.laenderdaten.info/Asien/Aserbaidsc...  "
      ]
     },
     "execution_count": 77,
     "metadata": {},
     "output_type": "execute_result"
    }
   ],
   "source": [
    "countries = pandas.read_csv('https://github.com/datapythonista/pandas_ecosystem/raw/master/data/countries.csv.gz',\n",
    "                            sep=';')\n",
    "countries"
   ]
  },
  {
   "cell_type": "code",
   "execution_count": null,
   "metadata": {},
   "outputs": [],
   "source": []
  }
 ],
 "metadata": {
  "kernelspec": {
   "display_name": "Python 3",
   "language": "python",
   "name": "python3"
  },
  "language_info": {
   "codemirror_mode": {
    "name": "ipython",
    "version": 3
   },
   "file_extension": ".py",
   "mimetype": "text/x-python",
   "name": "python",
   "nbconvert_exporter": "python",
   "pygments_lexer": "ipython3",
   "version": "3.7.3"
  }
 },
 "nbformat": 4,
 "nbformat_minor": 2
}
